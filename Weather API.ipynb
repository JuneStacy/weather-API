{
 "cells": [
  {
   "cell_type": "markdown",
   "id": "4c33d5e3",
   "metadata": {},
   "source": [
    "# WEATHER API CODE"
   ]
  },
  {
   "cell_type": "code",
   "execution_count": null,
   "id": "3c9faad9",
   "metadata": {},
   "outputs": [],
   "source": [
    "import requests"
   ]
  },
  {
   "cell_type": "code",
   "execution_count": 3,
   "id": "747e58ba",
   "metadata": {},
   "outputs": [
    {
     "name": "stdout",
     "output_type": "stream",
     "text": [
      "In Mombasa the weather condition will be: Patchy rain possible.\n"
     ]
    }
   ],
   "source": [
    "city = \"Mombasa\"\n",
    "response = requests.get(\"http://api.weatherapi.com/v1/forecast.json?key=fcd97a3cf0ea43649d7140533230611&q={city}&aqi=no\")\n",
    "\n",
    "\n",
    "data = response.json()\n",
    "\n",
    "alldata = data['forecast']\n",
    "furtherdata = alldata['forecastday']\n",
    "andmore = furtherdata[0]\n",
    "morefurtherdata = andmore['day']\n",
    "moremore = morefurtherdata['condition']\n",
    "mostmost = moremore['text']\n",
    "\n",
    "print(f\"In {city} the weather condition will be: {mostmost}.\")"
   ]
  },
  {
   "cell_type": "code",
   "execution_count": 4,
   "id": "c887a58d",
   "metadata": {},
   "outputs": [
    {
     "name": "stdout",
     "output_type": "stream",
     "text": [
      "In Nairobi the weather condition will be: Moderate rain.\n"
     ]
    }
   ],
   "source": [
    "city = \"Nairobi\"\n",
    "response = requests.get(\"http://api.weatherapi.com/v1/forecast.json?key=fcd97a3cf0ea43649d7140533230611&q=\" +city +\"&aqi=no\")\n",
    "\n",
    "\n",
    "data = response.json()\n",
    "\n",
    "alldata = data['forecast']\n",
    "\n",
    "furtherdata = alldata['forecastday']\n",
    "\n",
    "andmore = furtherdata[0]\n",
    "\n",
    "morefurtherdata = andmore['day']\n",
    "\n",
    "moremore = morefurtherdata['condition']\n",
    "\n",
    "mostmost = moremore['text']\n",
    "\n",
    "print(f\"In {city} the weather condition will be: {mostmost}.\")"
   ]
  },
  {
   "cell_type": "code",
   "execution_count": 5,
   "id": "97ee6189",
   "metadata": {},
   "outputs": [
    {
     "name": "stdout",
     "output_type": "stream",
     "text": [
      "In Kitui the weather condition will be: Moderate rain.\n"
     ]
    }
   ],
   "source": [
    "city = \"Kitui\"\n",
    "response = requests.get(\"http://api.weatherapi.com/v1/forecast.json?key=fcd97a3cf0ea43649d7140533230611&q=\" +city +\"&aqi=no\")\n",
    "\n",
    "\n",
    "data = response.json()\n",
    "\n",
    "alldata = data['forecast']\n",
    "\n",
    "furtherdata = alldata['forecastday']\n",
    "\n",
    "andmore = furtherdata[0]\n",
    "\n",
    "morefurtherdata = andmore['day']\n",
    "\n",
    "moremore = morefurtherdata['condition']\n",
    "\n",
    "mostmost = moremore['text']\n",
    "\n",
    "print(f\"In {city} the weather condition will be: {mostmost}.\")"
   ]
  },
  {
   "cell_type": "code",
   "execution_count": 6,
   "id": "80be9738",
   "metadata": {},
   "outputs": [
    {
     "name": "stdout",
     "output_type": "stream",
     "text": [
      "In London the weather condition will be: Patchy rain possible.\n"
     ]
    }
   ],
   "source": [
    "city = \"London\"\n",
    "response = requests.get(\"http://api.weatherapi.com/v1/forecast.json?key=fcd97a3cf0ea43649d7140533230611&q=\" +city +\"&aqi=no\")\n",
    "\n",
    "\n",
    "data = response.json()\n",
    "\n",
    "alldata = data['forecast']\n",
    "\n",
    "furtherdata = alldata['forecastday']\n",
    "\n",
    "andmore = furtherdata[0]\n",
    "\n",
    "morefurtherdata = andmore['day']\n",
    "\n",
    "moremore = morefurtherdata['condition']\n",
    "\n",
    "mostmost = moremore['text']\n",
    "\n",
    "print(f\"In {city} the weather condition will be: {mostmost}.\")"
   ]
  },
  {
   "cell_type": "code",
   "execution_count": 7,
   "id": "b2b3cf93",
   "metadata": {},
   "outputs": [
    {
     "name": "stdout",
     "output_type": "stream",
     "text": [
      "In Miami the weather condition will be: Partly cloudy.\n"
     ]
    }
   ],
   "source": [
    "city = \"Miami\"\n",
    "response = requests.get(\"http://api.weatherapi.com/v1/forecast.json?key=fcd97a3cf0ea43649d7140533230611&q=\" +city +\"&aqi=no\")\n",
    "\n",
    "\n",
    "data = response.json()\n",
    "\n",
    "alldata = data['forecast']\n",
    "\n",
    "furtherdata = alldata['forecastday']\n",
    "\n",
    "andmore = furtherdata[0]\n",
    "\n",
    "morefurtherdata = andmore['day']\n",
    "\n",
    "moremore = morefurtherdata['condition']\n",
    "\n",
    "mostmost = moremore['text']\n",
    "\n",
    "print(f\"In {city} the weather condition will be: {mostmost}.\")"
   ]
  },
  {
   "cell_type": "code",
   "execution_count": 8,
   "id": "bb9ddff5",
   "metadata": {},
   "outputs": [
    {
     "name": "stdout",
     "output_type": "stream",
     "text": [
      "In Kiambu the weather condition will be: Moderate rain.\n"
     ]
    }
   ],
   "source": [
    "city = \"Kiambu\"\n",
    "response = requests.get(\"http://api.weatherapi.com/v1/forecast.json?key=fcd97a3cf0ea43649d7140533230611&q=\" +city +\"&aqi=no\")\n",
    "\n",
    "\n",
    "data = response.json()\n",
    "\n",
    "alldata = data['forecast']\n",
    "\n",
    "furtherdata = alldata['forecastday']\n",
    "\n",
    "andmore = furtherdata[0]\n",
    "\n",
    "morefurtherdata = andmore['day']\n",
    "\n",
    "moremore = morefurtherdata['condition']\n",
    "\n",
    "mostmost = moremore['text']\n",
    "\n",
    "print(f\"In {city} the weather condition will be: {mostmost}.\")"
   ]
  }
 ],
 "metadata": {
  "kernelspec": {
   "display_name": "Python 3 (ipykernel)",
   "language": "python",
   "name": "python3"
  },
  "language_info": {
   "codemirror_mode": {
    "name": "ipython",
    "version": 3
   },
   "file_extension": ".py",
   "mimetype": "text/x-python",
   "name": "python",
   "nbconvert_exporter": "python",
   "pygments_lexer": "ipython3",
   "version": "3.10.9"
  }
 },
 "nbformat": 4,
 "nbformat_minor": 5
}
